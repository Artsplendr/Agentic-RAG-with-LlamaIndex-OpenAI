{
  "cells": [
    {
      "cell_type": "markdown",
      "id": "dd7c4c87",
      "metadata": {
        "id": "dd7c4c87"
      },
      "source": [
        "# Tool Calling"
      ]
    },
    {
      "cell_type": "markdown",
      "source": [
        "This project is aimed to explore **Tool Calling**, which helps to dynamically select not only the best query engine but also arguments to pass through the function, for example a page number.  This allows LLMs not only to use output of vector database, but also to understand how to use vector database.\n",
        "\n",
        "Tool Calling adds a layer of query understanding on top of the RAG pipeline, enables users to ask complex queries and to receive more accurate answers.\n"
      ],
      "metadata": {
        "id": "jUXWbChTnY6z"
      },
      "id": "jUXWbChTnY6z"
    },
    {
      "cell_type": "markdown",
      "source": [
        "# References\n",
        "\n",
        "This project is based on the course **\"Building Agentic RAG with Llamaindex\"** by **Deeplearning.AI** and is available at the following [link](https://learn.deeplearning.ai/courses/building-agentic-rag-with-llamaindex/)."
      ],
      "metadata": {
        "id": "xyjLw1G3tnd_"
      },
      "id": "xyjLw1G3tnd_"
    },
    {
      "cell_type": "markdown",
      "id": "357c97c9",
      "metadata": {
        "id": "357c97c9"
      },
      "source": [
        "## Setup"
      ]
    },
    {
      "cell_type": "code",
      "source": [
        "# Mounting to Google Drive\n",
        "from google.colab import drive\n",
        "drive.mount('/content/drive')"
      ],
      "metadata": {
        "colab": {
          "base_uri": "https://localhost:8080/"
        },
        "id": "6NH8irGTCpUn",
        "outputId": "bb573f69-3b12-4d35-9b00-186bf2decfa5"
      },
      "id": "6NH8irGTCpUn",
      "execution_count": null,
      "outputs": [
        {
          "output_type": "stream",
          "name": "stdout",
          "text": [
            "Mounted at /content/drive\n"
          ]
        }
      ]
    },
    {
      "cell_type": "code",
      "source": [
        "cd \"YOUR-PATH-HERE\""
      ],
      "metadata": {
        "id": "17-YOLhzNYe-"
      },
      "id": "17-YOLhzNYe-",
      "execution_count": null,
      "outputs": []
    },
    {
      "cell_type": "code",
      "source": [
        "%%capture\n",
        "!pip install llama-index llama-index-llms-openai llama-index-embeddings-openai openai pypdf"
      ],
      "metadata": {
        "id": "2gUt0H5LH55X"
      },
      "id": "2gUt0H5LH55X",
      "execution_count": null,
      "outputs": []
    },
    {
      "cell_type": "code",
      "source": [
        "!pip list | grep llama-index"
      ],
      "metadata": {
        "colab": {
          "base_uri": "https://localhost:8080/"
        },
        "id": "kayYqIZWHZib",
        "outputId": "1f349a90-72dd-4632-878d-c81e5f28671f"
      },
      "id": "kayYqIZWHZib",
      "execution_count": null,
      "outputs": [
        {
          "output_type": "stream",
          "name": "stdout",
          "text": [
            "llama-index                             0.12.19\n",
            "llama-index-agent-openai                0.4.6\n",
            "llama-index-cli                         0.4.0\n",
            "llama-index-core                        0.12.19\n",
            "llama-index-embeddings-openai           0.3.1\n",
            "llama-index-indices-managed-llama-cloud 0.6.7\n",
            "llama-index-llms-openai                 0.3.20\n",
            "llama-index-multi-modal-llms-openai     0.4.3\n",
            "llama-index-program-openai              0.3.1\n",
            "llama-index-question-gen-openai         0.3.0\n",
            "llama-index-readers-file                0.4.5\n",
            "llama-index-readers-llama-parse         0.4.0\n"
          ]
        }
      ]
    },
    {
      "cell_type": "code",
      "source": [
        "import os\n",
        "from llama_index.core import (\n",
        "    VectorStoreIndex,\n",
        "    SummaryIndex,\n",
        "    SimpleDirectoryReader,\n",
        "    ServiceContext,\n",
        "    Settings\n",
        ")\n",
        "from llama_index.embeddings.openai import OpenAIEmbedding\n",
        "from llama_index.llms.openai import OpenAI\n",
        "from llama_index.core.query_engine import RouterQueryEngine\n",
        "from llama_index.core.tools import QueryEngineTool\n",
        "from llama_index.core.selectors import LLMSingleSelector\n",
        "from llama_index.core.prompts import PromptTemplate"
      ],
      "metadata": {
        "id": "vgXLHIhIMiQC"
      },
      "id": "vgXLHIhIMiQC",
      "execution_count": null,
      "outputs": []
    },
    {
      "cell_type": "code",
      "execution_count": null,
      "id": "ab5f4f4a-5890-451c-8869-24606ef9f396",
      "metadata": {
        "height": 64,
        "tags": [],
        "id": "ab5f4f4a-5890-451c-8869-24606ef9f396"
      },
      "outputs": [],
      "source": [
        "# Set OpenAI API key\n",
        "import openai\n",
        "\n",
        "openai.api_key = 'YOUR-OPENAI-API-KEY-HERE'"
      ]
    },
    {
      "cell_type": "code",
      "source": [
        "import nest_asyncio\n",
        "nest_asyncio.apply()"
      ],
      "metadata": {
        "id": "KnAhNgOUZnN0"
      },
      "id": "KnAhNgOUZnN0",
      "execution_count": null,
      "outputs": []
    },
    {
      "cell_type": "markdown",
      "source": [
        "## Define An Example Of Simple Tool"
      ],
      "metadata": {
        "id": "p5Rz_6er9cry"
      },
      "id": "p5Rz_6er9cry"
    },
    {
      "cell_type": "code",
      "source": [
        "from llama_index.core.tools import FunctionTool\n",
        "\n",
        "def add(x: int, y: int) -> int:\n",
        "    \"\"\"Adds two integers together.\"\"\"\n",
        "    return x + y\n",
        "\n",
        "def mystery(x: int, y: int) -> int:\n",
        "    \"\"\"Mystery function that operates on top of two numbers.\"\"\"\n",
        "    return (x + y) * (x + y)\n",
        "\n",
        "\n",
        "add_tool = FunctionTool.from_defaults(fn=add)\n",
        "mystery_tool = FunctionTool.from_defaults(fn=mystery)"
      ],
      "metadata": {
        "id": "oP36_QYd9huB"
      },
      "id": "oP36_QYd9huB",
      "execution_count": null,
      "outputs": []
    },
    {
      "cell_type": "code",
      "source": [
        "# Initialize OpenAI model\n",
        "from llama_index.llms.openai import OpenAI\n",
        "\n",
        "llm = OpenAI(model=\"gpt-3.5-turbo\")"
      ],
      "metadata": {
        "id": "KwRQFpRf9hwg"
      },
      "id": "KwRQFpRf9hwg",
      "execution_count": null,
      "outputs": []
    },
    {
      "cell_type": "code",
      "source": [
        "response = llm.predict_and_call(\n",
        "    [add_tool, mystery_tool],\n",
        "    \"Tell me the output of the mystery function on 2 and 9\",\n",
        "    verbose=True\n",
        ")\n",
        "print(str(response))"
      ],
      "metadata": {
        "colab": {
          "base_uri": "https://localhost:8080/"
        },
        "id": "4O0UyFDB9hzD",
        "outputId": "2f228db1-2579-4259-8d1b-215a49b9bec9"
      },
      "id": "4O0UyFDB9hzD",
      "execution_count": null,
      "outputs": [
        {
          "output_type": "stream",
          "name": "stdout",
          "text": [
            "=== Calling Function ===\n",
            "Calling function: mystery with args: {\"x\": 2, \"y\": 9}\n",
            "=== Function Output ===\n",
            "121\n",
            "121\n"
          ]
        }
      ]
    },
    {
      "cell_type": "markdown",
      "source": [
        "## Define A Simple Auto-Retrieval Tool"
      ],
      "metadata": {
        "id": "kznmT43U_ARq"
      },
      "id": "kznmT43U_ARq"
    },
    {
      "cell_type": "code",
      "source": [
        "# Load and parse the PDF document\n",
        "reader = SimpleDirectoryReader(input_files=[\"transformers.pdf\"])\n",
        "documents = reader.load_data()"
      ],
      "metadata": {
        "id": "FrST2XA49h1L"
      },
      "id": "FrST2XA49h1L",
      "execution_count": null,
      "outputs": []
    },
    {
      "cell_type": "code",
      "source": [
        "# Splitting documents into chunks\n",
        "from llama_index.core.node_parser import SentenceSplitter\n",
        "\n",
        "splitter = SentenceSplitter(chunk_size=1024)\n",
        "nodes = splitter.get_nodes_from_documents(documents)"
      ],
      "metadata": {
        "id": "0ks0rMRN9h3v"
      },
      "id": "0ks0rMRN9h3v",
      "execution_count": null,
      "outputs": []
    },
    {
      "cell_type": "code",
      "source": [
        "# Each node represents a chunk, let's see how the first node looks\n",
        "print(nodes[0].get_content(metadata_mode=\"all\"))"
      ],
      "metadata": {
        "colab": {
          "base_uri": "https://localhost:8080/"
        },
        "id": "P1ZYS3uZ9h6G",
        "outputId": "bcec13eb-64a8-475a-cdad-7ba459a9aa7d"
      },
      "id": "P1ZYS3uZ9h6G",
      "execution_count": null,
      "outputs": [
        {
          "output_type": "stream",
          "name": "stdout",
          "text": [
            "page_label: 1\n",
            "file_name: transformers.pdf\n",
            "file_path: transformers.pdf\n",
            "file_type: application/pdf\n",
            "file_size: 2215244\n",
            "creation_date: 2025-02-18\n",
            "last_modified_date: 2025-02-14\n",
            "\n",
            "Provided proper attribution is provided, Google hereby grants permission to\n",
            "reproduce the tables and figures in this paper solely for use in journalistic or\n",
            "scholarly works.\n",
            "Attention Is All You Need\n",
            "Ashish Vaswani∗\n",
            "Google Brain\n",
            "avaswani@google.com\n",
            "Noam Shazeer∗\n",
            "Google Brain\n",
            "noam@google.com\n",
            "Niki Parmar∗\n",
            "Google Research\n",
            "nikip@google.com\n",
            "Jakob Uszkoreit∗\n",
            "Google Research\n",
            "usz@google.com\n",
            "Llion Jones∗\n",
            "Google Research\n",
            "llion@google.com\n",
            "Aidan N. Gomez∗ †\n",
            "University of Toronto\n",
            "aidan@cs.toronto.edu\n",
            "Łukasz Kaiser∗\n",
            "Google Brain\n",
            "lukaszkaiser@google.com\n",
            "Illia Polosukhin∗ ‡\n",
            "illia.polosukhin@gmail.com\n",
            "Abstract\n",
            "The dominant sequence transduction models are based on complex recurrent or\n",
            "convolutional neural networks that include an encoder and a decoder. The best\n",
            "performing models also connect the encoder and decoder through an attention\n",
            "mechanism. We propose a new simple network architecture, the Transformer,\n",
            "based solely on attention mechanisms, dispensing with recurrence and convolutions\n",
            "entirely. Experiments on two machine translation tasks show these models to\n",
            "be superior in quality while being more parallelizable and requiring significantly\n",
            "less time to train. Our model achieves 28.4 BLEU on the WMT 2014 English-\n",
            "to-German translation task, improving over the existing best results, including\n",
            "ensembles, by over 2 BLEU. On the WMT 2014 English-to-French translation task,\n",
            "our model establishes a new single-model state-of-the-art BLEU score of 41.8 after\n",
            "training for 3.5 days on eight GPUs, a small fraction of the training costs of the\n",
            "best models from the literature. We show that the Transformer generalizes well to\n",
            "other tasks by applying it successfully to English constituency parsing both with\n",
            "large and limited training data.\n",
            "∗Equal contribution. Listing order is random. Jakob proposed replacing RNNs with self-attention and started\n",
            "the effort to evaluate this idea. Ashish, with Illia, designed and implemented the first Transformer models and\n",
            "has been crucially involved in every aspect of this work. Noam proposed scaled dot-product attention, multi-head\n",
            "attention and the parameter-free position representation and became the other person involved in nearly every\n",
            "detail. Niki designed, implemented, tuned and evaluated countless model variants in our original codebase and\n",
            "tensor2tensor. Llion also experimented with novel model variants, was responsible for our initial codebase, and\n",
            "efficient inference and visualizations. Lukasz and Aidan spent countless long days designing various parts of and\n",
            "implementing tensor2tensor, replacing our earlier codebase, greatly improving results and massively accelerating\n",
            "our research.\n",
            "†Work performed while at Google Brain.\n",
            "‡Work performed while at Google Research.\n",
            "31st Conference on Neural Information Processing Systems (NIPS 2017), Long Beach, CA, USA.\n",
            "arXiv:1706.03762v7  [cs.CL]  2 Aug 2023\n"
          ]
        }
      ]
    },
    {
      "cell_type": "code",
      "source": [
        "len(nodes)"
      ],
      "metadata": {
        "colab": {
          "base_uri": "https://localhost:8080/"
        },
        "id": "JLm-j9P69h8N",
        "outputId": "f181bb90-ffdc-41c6-e71f-ed1dc0a15b27"
      },
      "id": "JLm-j9P69h8N",
      "execution_count": null,
      "outputs": [
        {
          "output_type": "execute_result",
          "data": {
            "text/plain": [
              "15"
            ]
          },
          "metadata": {},
          "execution_count": 25
        }
      ]
    },
    {
      "cell_type": "code",
      "source": [
        "# Defining Vector Index over the nodes\n",
        "vector_index = VectorStoreIndex(nodes)\n",
        "query_engine = vector_index.as_query_engine(similarity_top_k=2)"
      ],
      "metadata": {
        "id": "dxWl84cq9h-k"
      },
      "id": "dxWl84cq9h-k",
      "execution_count": null,
      "outputs": []
    },
    {
      "cell_type": "code",
      "source": [
        "from llama_index.core.vector_stores import MetadataFilters\n",
        "\n",
        "# Quering the RAG Pipeline via metadata filters\n",
        "query_engine = vector_index.as_query_engine(\n",
        "    similarity_top_k=2,\n",
        "    filters=MetadataFilters.from_dicts(\n",
        "        [\n",
        "            {\"key\": \"page_label\", \"value\": \"2\"}\n",
        "        ]\n",
        "    )\n",
        ")"
      ],
      "metadata": {
        "id": "gW6QRM8c9iA5"
      },
      "id": "gW6QRM8c9iA5",
      "execution_count": null,
      "outputs": []
    },
    {
      "cell_type": "code",
      "source": [
        "# Testing the RAG pipeline\n",
        "import textwrap\n",
        "\n",
        "query1 = \"What are some high-level results of the document?\"\n",
        "response = query_engine.query(query1)\n",
        "\n",
        "# Extract the response text\n",
        "response_text = str(response) if isinstance(response, str) else response.response\n",
        "\n",
        "# Wrap text to a readable width\n",
        "wrapped_response = textwrap.fill(response_text, width=80)\n",
        "\n",
        "# Print structured output\n",
        "print(\"=\" * 80)\n",
        "print(f\"**User Query:**\\n{query1}\\n\")\n",
        "print(\"=\" * 80)\n",
        "print(\"**Generated Response:**\\n\")\n",
        "print(wrapped_response)\n",
        "print(\"=\" * 80)"
      ],
      "metadata": {
        "colab": {
          "base_uri": "https://localhost:8080/"
        },
        "id": "XA_NsL5BBtOc",
        "outputId": "95595fc5-e1e0-400f-e253-4337ce68f567"
      },
      "id": "XA_NsL5BBtOc",
      "execution_count": null,
      "outputs": [
        {
          "output_type": "stream",
          "name": "stdout",
          "text": [
            "================================================================================\n",
            "**User Query:**\n",
            "What are some high-level results of the document?\n",
            "\n",
            "================================================================================\n",
            "**Generated Response:**\n",
            "\n",
            "The document discusses the Transformer model architecture, which relies entirely\n",
            "on self-attention to draw global dependencies between input and output, allowing\n",
            "for significantly more parallelization compared to recurrent models. The\n",
            "Transformer has been shown to achieve a new state of the art in translation\n",
            "quality after being trained for a relatively short period of time on multiple\n",
            "GPUs. Additionally, the document mentions other models like Extended Neural GPU,\n",
            "ByteNet, and ConvS2S that aim to reduce sequential computation through parallel\n",
            "processing using convolutional neural networks.\n",
            "================================================================================\n"
          ]
        }
      ]
    },
    {
      "cell_type": "code",
      "source": [
        "# Let's check the source nodes\n",
        "for n in response.source_nodes:\n",
        "    print(n.metadata)"
      ],
      "metadata": {
        "colab": {
          "base_uri": "https://localhost:8080/"
        },
        "id": "vnSG4e7BBtRQ",
        "outputId": "8cf7b52e-9937-41c4-f80f-dd660a252f39"
      },
      "id": "vnSG4e7BBtRQ",
      "execution_count": null,
      "outputs": [
        {
          "output_type": "stream",
          "name": "stdout",
          "text": [
            "{'page_label': '2', 'file_name': 'transformers.pdf', 'file_path': 'transformers.pdf', 'file_type': 'application/pdf', 'file_size': 2215244, 'creation_date': '2025-02-18', 'last_modified_date': '2025-02-14'}\n"
          ]
        }
      ]
    },
    {
      "cell_type": "markdown",
      "source": [
        "## Define an Auto-Retrieval Tool"
      ],
      "metadata": {
        "id": "tXCFOutqL1HC"
      },
      "id": "tXCFOutqL1HC"
    },
    {
      "cell_type": "code",
      "source": [
        "from typing import List\n",
        "from llama_index.core.vector_stores import FilterCondition\n",
        "\n",
        "\n",
        "def vector_query(\n",
        "    query: str,\n",
        "    page_numbers: List[str]\n",
        ") -> str:\n",
        "    \"\"\"Perform a vector search over an index.\n",
        "\n",
        "    query (str): the string query to be embedded.\n",
        "    page_numbers (List[str]): Filter by set of pages. Leave BLANK if we want to perform a vector search\n",
        "        over all pages. Otherwise, filter by the set of specified pages.\n",
        "\n",
        "    \"\"\"\n",
        "\n",
        "    metadata_dicts = [\n",
        "        {\"key\": \"page_label\", \"value\": p} for p in page_numbers\n",
        "    ]\n",
        "\n",
        "    query_engine = vector_index.as_query_engine(\n",
        "        similarity_top_k=2,\n",
        "        filters=MetadataFilters.from_dicts(\n",
        "            metadata_dicts,\n",
        "            condition=FilterCondition.OR\n",
        "        )\n",
        "    )\n",
        "    response = query_engine.query(query)\n",
        "    return response\n",
        "\n",
        "\n",
        "vector_query_tool = FunctionTool.from_defaults(\n",
        "    name=\"vector_tool\",\n",
        "    fn=vector_query\n",
        ")"
      ],
      "metadata": {
        "id": "3KOFv5S6BtT1"
      },
      "id": "3KOFv5S6BtT1",
      "execution_count": null,
      "outputs": []
    },
    {
      "cell_type": "code",
      "source": [
        "# Let's call this tool with LLM\n",
        "llm = OpenAI(model=\"gpt-3.5-turbo\", temperature=0)\n",
        "\n",
        "response = llm.predict_and_call(\n",
        "    [vector_query_tool],\n",
        "    \"What are the high-level results of the document as described on page 2?\",\n",
        "    verbose=True\n",
        ")"
      ],
      "metadata": {
        "colab": {
          "base_uri": "https://localhost:8080/"
        },
        "id": "6M4ry8AEBtY_",
        "outputId": "03d6cbdb-5da5-4093-bcc6-25df42c944e5"
      },
      "id": "6M4ry8AEBtY_",
      "execution_count": null,
      "outputs": [
        {
          "output_type": "stream",
          "name": "stdout",
          "text": [
            "=== Calling Function ===\n",
            "Calling function: vector_tool with args: {\"query\": \"high-level results\", \"page_numbers\": [\"2\"]}\n",
            "=== Function Output ===\n",
            "The Transformer model architecture, which relies entirely on self-attention mechanisms without using recurrent neural networks or convolution, has shown significant improvements in translation quality. It allows for more parallelization during training and can achieve state-of-the-art performance in translation quality after just twelve hours of training on eight P100 GPUs.\n"
          ]
        }
      ]
    },
    {
      "cell_type": "code",
      "source": [
        "for n in response.source_nodes:\n",
        "    print(n.metadata)"
      ],
      "metadata": {
        "colab": {
          "base_uri": "https://localhost:8080/"
        },
        "id": "qbsFxCI1Btdt",
        "outputId": "12ed0f80-e9d4-47e8-d366-8e3484e13403"
      },
      "id": "qbsFxCI1Btdt",
      "execution_count": null,
      "outputs": [
        {
          "output_type": "stream",
          "name": "stdout",
          "text": [
            "{'page_label': '2', 'file_name': 'transformers.pdf', 'file_path': 'transformers.pdf', 'file_type': 'application/pdf', 'file_size': 2215244, 'creation_date': '2025-02-18', 'last_modified_date': '2025-02-14'}\n"
          ]
        }
      ]
    },
    {
      "cell_type": "code",
      "source": [
        "# Let's add summary tool\n",
        "summary_index = SummaryIndex(nodes)\n",
        "summary_query_engine = summary_index.as_query_engine(\n",
        "    response_mode=\"tree_summarize\",\n",
        "    use_async=True,\n",
        ")\n",
        "summary_tool = QueryEngineTool.from_defaults(\n",
        "    name=\"summary_tool\",\n",
        "    query_engine=summary_query_engine,\n",
        "    description=(\n",
        "        \"Useful if you want to get a summary of document\"\n",
        "    ),\n",
        ")"
      ],
      "metadata": {
        "id": "LJLplmkiBthM"
      },
      "id": "LJLplmkiBthM",
      "execution_count": null,
      "outputs": []
    },
    {
      "cell_type": "code",
      "source": [
        "# Let's use tool calling again\n",
        "response = llm.predict_and_call(\n",
        "    [vector_query_tool, summary_tool],\n",
        "    \"Which results did the big transformer model achieve on the WMT 2014 English-to-German translation task, as described on page 8?\",\n",
        "    verbose=False\n",
        ")\n",
        "# Extract the response text\n",
        "response_text = str(response) if isinstance(response, str) else response.response\n",
        "\n",
        "# Wrap text to a readable width\n",
        "wrapped_response = textwrap.fill(response_text, width=80)\n",
        "\n",
        "print(\"=\" * 80)\n",
        "print(\"**Function Output:**\\n\")\n",
        "print(wrapped_response)\n",
        "print(\"=\" * 80)"
      ],
      "metadata": {
        "colab": {
          "base_uri": "https://localhost:8080/"
        },
        "id": "54poHUq-9iGu",
        "outputId": "7ccd4aab-0342-4fba-9d57-14b6219cbc3d"
      },
      "id": "54poHUq-9iGu",
      "execution_count": null,
      "outputs": [
        {
          "output_type": "stream",
          "name": "stdout",
          "text": [
            "================================================================================\n",
            "**Function Output:**\n",
            "\n",
            "The big transformer model achieved a BLEU score of 28.4 on the WMT 2014 English-\n",
            "to-German translation task, outperforming all previously reported models by more\n",
            "than 2.0 BLEU.\n",
            "================================================================================\n"
          ]
        }
      ]
    },
    {
      "cell_type": "code",
      "source": [
        "# Page 8 is correctly selected\n",
        "\n",
        "for n in response.source_nodes:\n",
        "    print(n.metadata)"
      ],
      "metadata": {
        "id": "JxNh6v4gM5V9",
        "colab": {
          "base_uri": "https://localhost:8080/"
        },
        "outputId": "7f4c9a9f-b45b-4d9c-db92-d6e3efd4605f"
      },
      "id": "JxNh6v4gM5V9",
      "execution_count": null,
      "outputs": [
        {
          "output_type": "stream",
          "name": "stdout",
          "text": [
            "{'page_label': '8', 'file_name': 'transformers.pdf', 'file_path': 'transformers.pdf', 'file_type': 'application/pdf', 'file_size': 2215244, 'creation_date': '2025-02-14', 'last_modified_date': '2025-02-14'}\n"
          ]
        }
      ]
    },
    {
      "cell_type": "code",
      "source": [
        "# LLM can also pick up the summary tool, when necessary\n",
        "query3 = \"Please make a summary of the document\"\n",
        "response = llm.predict_and_call(\n",
        "    [vector_query_tool, summary_tool],\n",
        "    query3,\n",
        "    verbose=False\n",
        ")\n",
        "# Extract the response text\n",
        "response_text = str(response) if isinstance(response, str) else response.response\n",
        "\n",
        "# Wrap text to a readable width\n",
        "wrapped_response = textwrap.fill(response_text, width=80)\n",
        "\n",
        "# Print structured output\n",
        "print(\"=\" * 80)\n",
        "print(f\"**User Query:**\\n{query3}\\n\")\n",
        "print(\"=\" * 80)\n",
        "print(\"**Generated Response:**\\n\")\n",
        "print(wrapped_response)\n",
        "print(\"=\" * 80)"
      ],
      "metadata": {
        "colab": {
          "base_uri": "https://localhost:8080/"
        },
        "id": "fJMrkSpjGOYK",
        "outputId": "76c48f71-c906-40ac-f9a6-8909046fa394"
      },
      "id": "fJMrkSpjGOYK",
      "execution_count": null,
      "outputs": [
        {
          "output_type": "stream",
          "name": "stdout",
          "text": [
            "================================================================================\n",
            "**User Query:**\n",
            "Please make a summary of the document\n",
            "\n",
            "================================================================================\n",
            "**Generated Response:**\n",
            "\n",
            "The document discusses the Transformer model, a sequence transduction model\n",
            "based solely on attention mechanisms, eliminating the need for recurrent or\n",
            "convolutional layers. The model uses self-attention to compute representations\n",
            "of input and output sequences. It allows for more parallelization, faster\n",
            "training, and achieves state-of-the-art results in machine translation tasks.\n",
            "The paper presents the model architecture, attention mechanisms, training\n",
            "details, and results on tasks like English-to-German and English-to-French\n",
            "translation. Additionally, the Transformer model is shown to generalize well to\n",
            "English constituency parsing tasks. The document concludes by highlighting the\n",
            "potential of attention-based models for various tasks and providing access to\n",
            "the code used for training and evaluation.\n",
            "================================================================================\n"
          ]
        }
      ]
    }
  ],
  "metadata": {
    "kernelspec": {
      "display_name": "Python 3",
      "name": "python3"
    },
    "language_info": {
      "codemirror_mode": {
        "name": "ipython",
        "version": 3
      },
      "file_extension": ".py",
      "mimetype": "text/x-python",
      "name": "python",
      "nbconvert_exporter": "python",
      "pygments_lexer": "ipython3",
      "version": "3.11.9"
    },
    "colab": {
      "provenance": [],
      "machine_shape": "hm",
      "gpuType": "T4"
    },
    "accelerator": "GPU"
  },
  "nbformat": 4,
  "nbformat_minor": 5
}